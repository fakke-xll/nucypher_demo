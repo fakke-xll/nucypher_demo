{
 "metadata": {
  "language_info": {
   "codemirror_mode": {
    "name": "ipython",
    "version": 3
   },
   "file_extension": ".py",
   "mimetype": "text/x-python",
   "name": "python",
   "nbconvert_exporter": "python",
   "pygments_lexer": "ipython3",
   "version": "3.8.2-final"
  },
  "orig_nbformat": 2,
  "kernelspec": {
   "name": "python38264bitmynucyenvvenv9324ff619c244921bcaadf03de37a42c",
   "display_name": "Python 3.8.2 64-bit ('my_nucy_env': venv)"
  }
 },
 "nbformat": 4,
 "nbformat_minor": 2,
 "cells": [
  {
   "cell_type": "code",
   "execution_count": 1,
   "metadata": {},
   "outputs": [],
   "source": [
    "from base64 import b64decode,b64encode\n",
    "import json\n",
    "import requests"
   ]
  },
  {
   "cell_type": "code",
   "execution_count": 7,
   "metadata": {},
   "outputs": [],
   "source": [
    "alice = \"http://localhost:8151\"\n",
    "Alice_Verifying_Key = \"03bebf3d9631d53c4797be3246c49dcc213b2cb3843abf35449430030e7c7339b6\"\n",
    "derivation_response = requests.post(f\"{alice}//derive_policy_encrypting_key/songs\")"
   ]
  },
  {
   "cell_type": "code",
   "execution_count": 8,
   "metadata": {},
   "outputs": [
    {
     "output_type": "execute_result",
     "data": {
      "text/plain": "<Response [200]>"
     },
     "metadata": {},
     "execution_count": 8
    }
   ],
   "source": [
    "derivation_response"
   ]
  },
  {
   "cell_type": "code",
   "execution_count": 9,
   "metadata": {},
   "outputs": [
    {
     "output_type": "execute_result",
     "data": {
      "text/plain": "b'{\"result\": {\"policy_encrypting_key\": \"0224aa3b7e9f35d9fd0c7ab335068d9f43d20d14ec7473a0ca5848681acbb21454\", \"label\": \"songs\"}, \"version\": \"3.0.0-beta.0\"}'"
     },
     "metadata": {},
     "execution_count": 9
    }
   ],
   "source": [
    "derivation_response.content"
   ]
  },
  {
   "cell_type": "code",
   "execution_count": 10,
   "metadata": {},
   "outputs": [],
   "source": [
    "policy_encrypting_key = \"0224aa3b7e9f35d9fd0c7ab335068d9f43d20d14ec7473a0ca5848681acbb21454\"\n"
   ]
  },
  {
   "cell_type": "code",
   "execution_count": 11,
   "metadata": {},
   "outputs": [],
   "source": [
    "enrico = \"http://localhost:5152\""
   ]
  },
  {
   "cell_type": "code",
   "execution_count": 12,
   "metadata": {},
   "outputs": [],
   "source": [
    "message_to_encrypt = b\"This is some plaintext\""
   ]
  },
  {
   "cell_type": "code",
   "execution_count": 13,
   "metadata": {},
   "outputs": [],
   "source": [
    "encryption_request = { \"message\":b64encode(message_to_encrypt).decode() }"
   ]
  },
  {
   "cell_type": "code",
   "execution_count": 14,
   "metadata": {},
   "outputs": [
    {
     "output_type": "execute_result",
     "data": {
      "text/plain": "{'message': 'VGhpcyBpcyBzb21lIHBsYWludGV4dA=='}"
     },
     "metadata": {},
     "execution_count": 14
    }
   ],
   "source": [
    "encryption_request"
   ]
  },
  {
   "cell_type": "code",
   "execution_count": 15,
   "metadata": {},
   "outputs": [],
   "source": [
    "encryption_response = requests.post( f\"{enrico}/encrypt_message\",data=json.dumps(encryption_request) )"
   ]
  },
  {
   "cell_type": "code",
   "execution_count": 16,
   "metadata": {},
   "outputs": [
    {
     "output_type": "execute_result",
     "data": {
      "text/plain": "b'{\"result\": {\"message_kit\": \"Ag7I5VUWoDpUwTcZ1aEmi36lIBFMHrv47iNQYbW7SJGcAjEIt9B6inZcprzdXURBLR71myktmLZYRiryZqe4fEWCTwYmxOsCSSGXt2FjTaJWR0mwx6pP1ZNIpQA7XOp4HXcDWvWthNC5bxbzEXTTl+4yDgFo8AonRyqqjZ+HHUONm+kAAACEvQDpeQff8QhoQkFnXZt0k/+S1/uZAkf3FFYj3Ur2Bl83B5zF3t0c2jVPMp787dvQoMR54wRVNnCw6YsNZUGS0BWzhOlm4oO9RHo5NV8lXIrqfsY7DCl4JR/yzj6NW8dc2HiImG1af5LTq325HxZjUsh7M7FDS0c27QYUYB11LFBB2oGm\", \"signature\": \"U6URG6VM9TOLH67lBcxOLQfOXzHNamqUS4QMoLvmdTh8gTFTzog0/FSsZNHtEYshYb0nUj2z12h5rZJ8cju11A==\"}, \"version\": \"3.0.0-beta.0\"}'"
     },
     "metadata": {},
     "execution_count": 16
    }
   ],
   "source": [
    "encryption_response.content"
   ]
  },
  {
   "cell_type": "code",
   "execution_count": 17,
   "metadata": {},
   "outputs": [],
   "source": [
    "message_kit = json.loads(encryption_response.content)['result']['message_kit']"
   ]
  },
  {
   "cell_type": "code",
   "execution_count": 18,
   "metadata": {},
   "outputs": [
    {
     "output_type": "execute_result",
     "data": {
      "text/plain": "'Ag7I5VUWoDpUwTcZ1aEmi36lIBFMHrv47iNQYbW7SJGcAjEIt9B6inZcprzdXURBLR71myktmLZYRiryZqe4fEWCTwYmxOsCSSGXt2FjTaJWR0mwx6pP1ZNIpQA7XOp4HXcDWvWthNC5bxbzEXTTl+4yDgFo8AonRyqqjZ+HHUONm+kAAACEvQDpeQff8QhoQkFnXZt0k/+S1/uZAkf3FFYj3Ur2Bl83B5zF3t0c2jVPMp787dvQoMR54wRVNnCw6YsNZUGS0BWzhOlm4oO9RHo5NV8lXIrqfsY7DCl4JR/yzj6NW8dc2HiImG1af5LTq325HxZjUsh7M7FDS0c27QYUYB11LFBB2oGm'"
     },
     "metadata": {},
     "execution_count": 18
    }
   ],
   "source": [
    "message_kit"
   ]
  },
  {
   "cell_type": "code",
   "execution_count": 19,
   "metadata": {},
   "outputs": [],
   "source": [
    "bob = \"http://localhost:11151\""
   ]
  },
  {
   "cell_type": "code",
   "execution_count": 20,
   "metadata": {},
   "outputs": [],
   "source": [
    "Bob_Verifying_Key = \"0384a576c6370e37690d594681423528ac1c6c5a772ee8c6d20b47e550f41f6fd6\"\n",
    "Bob_Encrypting_Key =  \"02684c17f80d25d3d625397faa12fa537a9be5a6406f42920dd19886827e319139\""
   ]
  },
  {
   "cell_type": "code",
   "execution_count": 21,
   "metadata": {},
   "outputs": [],
   "source": [
    "retrieval = {}\n",
    "retrieval[\"label\"] = \"songs\"\n",
    "retrieval[\"policy_encrypting_key\"] = policy_encrypting_key\n",
    "retrieval[\"alice_verifying_key\"] = Alice_Verifying_Key\n",
    "retrieval[\"message_kit\"] = message_kit"
   ]
  },
  {
   "cell_type": "code",
   "execution_count": 22,
   "metadata": {},
   "outputs": [
    {
     "output_type": "execute_result",
     "data": {
      "text/plain": "{'label': 'songs',\n 'policy_encrypting_key': '0224aa3b7e9f35d9fd0c7ab335068d9f43d20d14ec7473a0ca5848681acbb21454',\n 'alice_verifying_key': '03bebf3d9631d53c4797be3246c49dcc213b2cb3843abf35449430030e7c7339b6',\n 'message_kit': 'Ag7I5VUWoDpUwTcZ1aEmi36lIBFMHrv47iNQYbW7SJGcAjEIt9B6inZcprzdXURBLR71myktmLZYRiryZqe4fEWCTwYmxOsCSSGXt2FjTaJWR0mwx6pP1ZNIpQA7XOp4HXcDWvWthNC5bxbzEXTTl+4yDgFo8AonRyqqjZ+HHUONm+kAAACEvQDpeQff8QhoQkFnXZt0k/+S1/uZAkf3FFYj3Ur2Bl83B5zF3t0c2jVPMp787dvQoMR54wRVNnCw6YsNZUGS0BWzhOlm4oO9RHo5NV8lXIrqfsY7DCl4JR/yzj6NW8dc2HiImG1af5LTq325HxZjUsh7M7FDS0c27QYUYB11LFBB2oGm'}"
     },
     "metadata": {},
     "execution_count": 22
    }
   ],
   "source": [
    "retrieval"
   ]
  },
  {
   "cell_type": "code",
   "execution_count": 44,
   "metadata": {},
   "outputs": [],
   "source": [
    "result = requests.post(f\"{bob}/retrieve\",data=json.dumps(retrieval))"
   ]
  },
  {
   "cell_type": "code",
   "execution_count": 45,
   "metadata": {},
   "outputs": [
    {
     "output_type": "execute_result",
     "data": {
      "text/plain": "<Response [200]>"
     },
     "metadata": {},
     "execution_count": 45
    }
   ],
   "source": [
    "result.content"
   ]
  },
  {
   "cell_type": "code",
   "execution_count": 25,
   "metadata": {},
   "outputs": [
    {
     "output_type": "execute_result",
     "data": {
      "text/plain": "'{\"label\": \"songs\", \"policy_encrypting_key\": \"0224aa3b7e9f35d9fd0c7ab335068d9f43d20d14ec7473a0ca5848681acbb21454\", \"alice_verifying_key\": \"03bebf3d9631d53c4797be3246c49dcc213b2cb3843abf35449430030e7c7339b6\", \"message_kit\": \"Ag7I5VUWoDpUwTcZ1aEmi36lIBFMHrv47iNQYbW7SJGcAjEIt9B6inZcprzdXURBLR71myktmLZYRiryZqe4fEWCTwYmxOsCSSGXt2FjTaJWR0mwx6pP1ZNIpQA7XOp4HXcDWvWthNC5bxbzEXTTl+4yDgFo8AonRyqqjZ+HHUONm+kAAACEvQDpeQff8QhoQkFnXZt0k/+S1/uZAkf3FFYj3Ur2Bl83B5zF3t0c2jVPMp787dvQoMR54wRVNnCw6YsNZUGS0BWzhOlm4oO9RHo5NV8lXIrqfsY7DCl4JR/yzj6NW8dc2HiImG1af5LTq325HxZjUsh7M7FDS0c27QYUYB11LFBB2oGm\"}'"
     },
     "metadata": {},
     "execution_count": 25
    }
   ],
   "source": [
    "json.dumps(retrieval)"
   ]
  },
  {
   "cell_type": "code",
   "execution_count": 26,
   "metadata": {},
   "outputs": [],
   "source": [
    "policy_end_datetime = maya.now() + datetime.timedelta(days=5)"
   ]
  },
  {
   "cell_type": "code",
   "execution_count": 27,
   "metadata": {},
   "outputs": [
    {
     "output_type": "execute_result",
     "data": {
      "text/plain": "<MayaDT epoch=1600407768.802474>"
     },
     "metadata": {},
     "execution_count": 27
    }
   ],
   "source": [
    "policy_end_datetime"
   ]
  },
  {
   "cell_type": "code",
   "execution_count": 33,
   "metadata": {},
   "outputs": [],
   "source": [
    "grant = {}\n",
    "grant[\"bob_verifying_key\"] = Bob_Verifying_Key\n",
    "grant[\"bob_encrypting_key\"] = Bob_Encrypting_Key\n",
    "grant[\"m\"] = 1\n",
    "grant[\"n\"] = 1\n",
    "grant[\"label\"] = \"songs\"\n",
    "grant[\"expiration\"] = 5"
   ]
  },
  {
   "cell_type": "code",
   "execution_count": 34,
   "metadata": {},
   "outputs": [
    {
     "output_type": "execute_result",
     "data": {
      "text/plain": "{'bob_verifying_key': '0384a576c6370e37690d594681423528ac1c6c5a772ee8c6d20b47e550f41f6fd6',\n 'bob_encrypting_key': '02684c17f80d25d3d625397faa12fa537a9be5a6406f42920dd19886827e319139',\n 'm': 1,\n 'n': 1,\n 'label': 'songs',\n 'expiration': 5}"
     },
     "metadata": {},
     "execution_count": 34
    }
   ],
   "source": [
    "grant"
   ]
  },
  {
   "cell_type": "code",
   "execution_count": 38,
   "metadata": {},
   "outputs": [
    {
     "output_type": "execute_result",
     "data": {
      "text/plain": "<Response [500]>"
     },
     "metadata": {},
     "execution_count": 38
    }
   ],
   "source": [
    "requests.put(f\"{alice}/grant\",data=json.dumps(grant))"
   ]
  },
  {
   "cell_type": "code",
   "execution_count": 39,
   "metadata": {},
   "outputs": [],
   "source": [
    "retrieved =  requests.post(f\"{bob}/retrieve\",data=json.dumps(retrieval))"
   ]
  },
  {
   "cell_type": "code",
   "execution_count": 40,
   "metadata": {},
   "outputs": [
    {
     "output_type": "execute_result",
     "data": {
      "text/plain": "b'{\"result\": {\"cleartexts\": [\"VGhpcyBpcyBzb21lIHBsYWludGV4dA==\"]}, \"version\": \"3.0.0-beta.0\"}'"
     },
     "metadata": {},
     "execution_count": 40
    }
   ],
   "source": [
    "retrieved.content"
   ]
  },
  {
   "cell_type": "code",
   "execution_count": 41,
   "metadata": {},
   "outputs": [],
   "source": [
    "retrieved_b64 = json.loads(retrieved.content)['result']['cleartexts']"
   ]
  },
  {
   "cell_type": "code",
   "execution_count": 42,
   "metadata": {},
   "outputs": [
    {
     "output_type": "execute_result",
     "data": {
      "text/plain": "['VGhpcyBpcyBzb21lIHBsYWludGV4dA==']"
     },
     "metadata": {},
     "execution_count": 42
    }
   ],
   "source": [
    "retrieved_b64"
   ]
  },
  {
   "cell_type": "code",
   "execution_count": 43,
   "metadata": {},
   "outputs": [
    {
     "output_type": "execute_result",
     "data": {
      "text/plain": "b'This is some plaintext'"
     },
     "metadata": {},
     "execution_count": 43
    }
   ],
   "source": [
    "b64decode(retrieved_b64[0])"
   ]
  },
  {
   "cell_type": "code",
   "execution_count": null,
   "metadata": {},
   "outputs": [],
   "source": []
  }
 ]
}